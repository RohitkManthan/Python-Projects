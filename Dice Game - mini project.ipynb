{
 "cells": [
  {
   "cell_type": "markdown",
   "id": "805bce19",
   "metadata": {},
   "source": [
    "# Dice Game - Mini project"
   ]
  },
  {
   "cell_type": "code",
   "execution_count": 1,
   "id": "61081114",
   "metadata": {},
   "outputs": [
    {
     "name": "stdin",
     "output_type": "stream",
     "text": [
      "Enter the no of players are ready to play dice game :  1\n",
      "Enter player - 1 name :  rohit\n"
     ]
    },
    {
     "name": "stdout",
     "output_type": "stream",
     "text": [
      "Dice output for current play : 6 , chances left = 4\n",
      "\n",
      "one more chance included due to you got 6 , chance left = 5\n",
      "\n",
      "Dice output for current play : 3 , chances left = 4\n",
      "\n",
      "Dice output for current play : 3 , chances left = 3\n",
      "\n",
      "Your two consecutive dice outputs are same so , your get one extra chance , chances left = 4\n",
      "\n",
      "Dice output for current play : 4 , chances left = 3\n",
      "\n",
      "Dice output for current play : 1 , chances left = 2\n",
      "\n",
      "Dice output for current play : 5 , chances left = 1\n",
      "\n",
      "Dice output for current play : 1 , chances left = 0\n",
      "\n",
      "rohit won the game with score : 23\n",
      " Summary-\n",
      "                First seek the input as players are ready to play\n",
      "                Then seek player name as input\n",
      "                rolling dice by the player and count score of a particular player based on chances he got as per problem statement.\n",
      "                storing the data in a dictionary key as player name and score as value\n",
      "                sorting the dictionary in decreasing order based on values\n",
      "                pick an first key and the display as winner   \n"
     ]
    }
   ],
   "source": [
    "import random                                               # importing random module\n",
    "def dice_game():                                            # defining a function\n",
    "    \n",
    "    \n",
    "    \"\"\" Summary-\n",
    "                First seek the input as players are ready to play\n",
    "                Then seek player name as input\n",
    "                rolling dice by the player and count score of a particular player based on chances he got as per problem statement.\n",
    "                storing the data in a dictionary key as player name and score as value\n",
    "                sorting the dictionary in decreasing order based on values\n",
    "                pick an first key and the display as winner   \"\"\"\n",
    "    \n",
    "    \n",
    "    # code starts here\n",
    "    \n",
    "    players = int(input(\"Enter the no of players are ready to play dice game : \")) #  input from user\n",
    "    d = {}                                                  # creating empty dictionary to key and score value is stored\n",
    "    for i in range(1 , players + 1):                        # using for loop \n",
    "        player_name = input(f\"Enter player - {i} name : \")  # seek user name as input\n",
    "        n = 5                                               # intialization \n",
    "        sum = 0                                             # intilization sum=0\n",
    "        l = []                                              # creating empty list\n",
    "        l1 = []                                             # creating another empty list\n",
    "        while(n > 0):                                       # we using while loop \n",
    "            n = n - 1                                       # updation of varible\n",
    "            num = random.randint(1 , 6)                     # using randint function to pick random from 1 - 6\n",
    "            l.insert(0 , num)                               # inserting element at idex zero\n",
    "            l1.insert(0 , num)                              # inserting element at idex zero\n",
    "            if len(l) > 2:                                  # if condition results boolean value\n",
    "                l.pop()                                     # applying pop method to l list\n",
    "            if len(l1) > 3:                                 \n",
    "                l1.pop()                                    # applying pop method to l1 list\n",
    "            sum = sum + num                                 # we are calculating cummulative results of dice\n",
    "            print(f\"Dice output for current play : {num} , chances left = {n}\")\n",
    "            print()                                         # giving line space\n",
    "            if num == 6:                                    # if the dice output is 6 then we need to provide one more chance\n",
    "                n = n + 1                                   # updation of varible n\n",
    "                print(f\"one more chance included due to you got {num} , chance left = {n}\")\n",
    "                print()                                     # giving line space\n",
    "            if len(l) == 2:                                 # control statement that results an boolean value\n",
    "                if l[0] == l[1]:                            # to check weather two consecutive dice outputs are same\n",
    "                    n = n + 1                               # updation of varible n\n",
    "                    print(f\"Your two consecutive dice outputs are same so , your get one extra chance , chances left = {n}\")\n",
    "                    print()                                 # Giving line space\n",
    "            if len(l1) == 3:                                # control statement the results boolean value to decide to go under or not\n",
    "                if l1[0] == l1[1] and l1[1] == l1[2]:       # checking three consecutive dice outputs are same or not\n",
    "                    n = 0                                   # updation of varible n\n",
    "                    print(f\"Your three consecutive dice outputs are same , you lost all chances , chances left = {n}\")\n",
    "                    print()                                 # Giving line space\n",
    "            \n",
    "        else:\n",
    "            d[player_name] = sum                            # adding dict values player names as keys and score as values\n",
    "    d = dict(sorted(d.items() , key = lambda item : item[1] , reverse = True))# sorting a dictionary based on values in decreasing order\n",
    "    for i,j in d.items():                                   # using for loop to get key and value in dictionary         \n",
    "        print(f\"{i} won the game with score : {j}\")         # First key and corresponding value\n",
    "        break                                               # using break statement to terminate for loop\n",
    "        \n",
    "        \n",
    "    \n",
    "        \n",
    "        \n",
    "dice_game()\n",
    "print(dice_game.__doc__)"
   ]
  },
  {
   "cell_type": "code",
   "execution_count": null,
   "id": "8d8a28cb",
   "metadata": {},
   "outputs": [],
   "source": []
  }
 ],
 "metadata": {
  "kernelspec": {
   "display_name": "Python 3 (ipykernel)",
   "language": "python",
   "name": "python3"
  },
  "language_info": {
   "codemirror_mode": {
    "name": "ipython",
    "version": 3
   },
   "file_extension": ".py",
   "mimetype": "text/x-python",
   "name": "python",
   "nbconvert_exporter": "python",
   "pygments_lexer": "ipython3",
   "version": "3.11.5"
  }
 },
 "nbformat": 4,
 "nbformat_minor": 5
}
