{
 "cells": [
  {
   "cell_type": "markdown",
   "id": "6ce7983f-56c5-4e6e-97c2-ab4620781022",
   "metadata": {},
   "source": [
    "# MINI PROJECT- ROCK,PAPER AND SCISSOR GAME"
   ]
  },
  {
   "cell_type": "code",
   "execution_count": 1,
   "id": "7b036d30-ee59-4409-9592-ef3e88abb5ff",
   "metadata": {
    "tags": []
   },
   "outputs": [
    {
     "name": "stdout",
     "output_type": "stream",
     "text": [
      "************************* ROCK--PAPER--SCISSOR GAME *************************\n",
      "\n"
     ]
    },
    {
     "name": "stdin",
     "output_type": "stream",
     "text": [
      "ENTER OF ROUNDS YOU WANT TO PLAY: 3\n",
      "ENTER YOUR CHOICE as (rock,paper or scissor ):  rock\n"
     ]
    },
    {
     "name": "stdout",
     "output_type": "stream",
     "text": [
      "System choice is: paper\n",
      "Computer won this round!\n"
     ]
    },
    {
     "name": "stdin",
     "output_type": "stream",
     "text": [
      "ENTER YOUR CHOICE as (rock,paper or scissor ):  paper\n"
     ]
    },
    {
     "name": "stdout",
     "output_type": "stream",
     "text": [
      "System choice is: paper\n",
      "It's a draw!\n"
     ]
    },
    {
     "name": "stdin",
     "output_type": "stream",
     "text": [
      "ENTER YOUR CHOICE as (rock,paper or scissor ):  scissor\n"
     ]
    },
    {
     "name": "stdout",
     "output_type": "stream",
     "text": [
      "System choice is: rock\n",
      "Computer won this round!\n",
      "Game Over!\n",
      "Computer won the game. Better luck next time!\n",
      "You: 0 wins | Computer: 2 wins\n",
      "\n",
      "       SUMMARY:-\n",
      "       \n",
      "       Initialization   - for while loop we take intialisation as j=0\n",
      "                        - we have to count user win and computer win so we take initialization as user_score =0 and computer_score=0\n",
      "                        - then we take input trial so the while loop has to stop at that number\n",
      "       condition/update - In a While loop take user as a string and create a list with rock , paper and scissor as ename\n",
      "                        - pick a random choice in variable ename\n",
      "                        - Check condition in if else\n",
      "                        - if computer win more than user then it show computer won\n",
      "                        - if user won more the user then it show user won\n",
      "       Rules            - rock win over scissor \n",
      "                        - paper win over rock\n",
      "                        - scissor win over paper\n"
     ]
    }
   ],
   "source": [
    "import random                               # import random module\n",
    "def summary():\n",
    "    \"\"\"\n",
    "       SUMMARY:-\n",
    "       \n",
    "       Initialization   - for while loop we take intialisation as j=0\n",
    "                        - we have to count user win and computer win so we take initialization as user_score =0 and computer_score=0\n",
    "                        - then we take input trial so the while loop has to stop at that number\n",
    "       condition/update - In a While loop take user as a string and create a list with rock , paper and scissor as ename\n",
    "                        - pick a random choice in variable ename\n",
    "                        - Check condition in if else\n",
    "                        - if computer win more than user then it show computer won\n",
    "                        - if user won more the user then it show user won\n",
    "       Rules            - rock win over scissor \n",
    "                        - paper win over rock\n",
    "                        - scissor win over paper\"\"\"\n",
    "print(\"*\"*25,\"ROCK--PAPER--SCISSOR GAME\",\"*\"*25)\n",
    "print()\n",
    "j=0                                        #Here 0 assign to varible j\n",
    "user_score=0                               # Here we have to count that's why we have to take initial value as 0\n",
    "computer_score=0                           # Here we have to count that's why we have to take initial value as 0\n",
    "no_of_attempts=int(input(\"ENTER OF ROUNDS YOU WANT TO PLAY:\")) #Here int value assign to trial variable\n",
    "while j<no_of_attempts:                             # using while loop\n",
    "\n",
    "    user = input(\"ENTER YOUR CHOICE as (rock,paper or scissor ): \")    # to seek input from user \n",
    "\n",
    "\n",
    "    ename = [\"rock\", \"paper\", \"scissor\"]   # We store the list of rock paper and scissor in ename\n",
    "\n",
    "\n",
    "\n",
    "    system_choice = random.choice(ename)            # we have to choice any one on ename and stored in pick\n",
    "    print(\"System choice is:\",system_choice)\n",
    "\n",
    "#check condition \n",
    "    if user == system_choice:                       #Here user compare to pick if both are same then it return as draw\n",
    "        print(\"It's a draw!\")\n",
    "    # user compare to pick it return true when user won otherwise shows false\n",
    "    elif (user == \"rock\" and system_choice == \"scissor\") or (user == \"scissor\" and system_choice == \"paper\") or (user == \"paper\" and system_choice == \"rock\"):\n",
    "        print(\"You won this round!\")\n",
    "        user_score += 1                    #Here user_score increment by 1 when the condition is true otherwise it goes to else part \n",
    "    else:                                  #Here user compare to computer return computer won \n",
    "        print(\"Computer won this round!\")\n",
    "        computer_score += 1                #Here if this condition is true it computer_score is increment by 1\n",
    "    j=j+1                                  #update-increment\n",
    "print(\"Game Over!\")\n",
    "\n",
    "if user_score > computer_score:            #Here user_score compare with computer_score if this conditon is true return you won \n",
    "    print(\"CONGRATULATION!!!!! You won the game.\")\n",
    "elif user_score < computer_score:          #Here user_score campare with computer_score if this condition is true return computer won\n",
    "    print(\"Computer won the game. Better luck next time!\")\n",
    "else:                                      #Here user_score campare with computer_score if this condition is true return tie\n",
    "    print(\"It's a tie. The game ended in a draw.\")\n",
    "\n",
    "print(f\"You: {user_score} wins | Computer: {computer_score} wins\") #Here it shows the total user_score and computer_score\n",
    "print(summary.__doc__)                    #Here it will print the message given in the def function\n"
   ]
  }
 ],
 "metadata": {
  "kernelspec": {
   "display_name": "Python 3 (ipykernel)",
   "language": "python",
   "name": "python3"
  },
  "language_info": {
   "codemirror_mode": {
    "name": "ipython",
    "version": 3
   },
   "file_extension": ".py",
   "mimetype": "text/x-python",
   "name": "python",
   "nbconvert_exporter": "python",
   "pygments_lexer": "ipython3",
   "version": "3.11.5"
  }
 },
 "nbformat": 4,
 "nbformat_minor": 5
}
