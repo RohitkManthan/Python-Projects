{
 "cells": [
  {
   "cell_type": "markdown",
   "id": "e5d59ee2-895b-4f95-b895-672497543c89",
   "metadata": {},
   "source": [
    "# MINI PROJECT - GUESSING GAME"
   ]
  },
  {
   "cell_type": "code",
   "execution_count": 2,
   "id": "7288daea-f6c3-4837-a312-6f61fd2b8199",
   "metadata": {
    "tags": []
   },
   "outputs": [
    {
     "name": "stdout",
     "output_type": "stream",
     "text": [
      "************************* WELCOME TO GUESSING GAME *************************\n",
      "\n"
     ]
    },
    {
     "name": "stdin",
     "output_type": "stream",
     "text": [
      "ENTER THE NUMBER OF ROUNDS YOU WANT TO PLAY: 6\n",
      "ENTER STOP NUMBER OF SYSTEM CHOICE : 4\n",
      "ENTER YOU CHOICE AS NUMBER:  1\n"
     ]
    },
    {
     "name": "stdout",
     "output_type": "stream",
     "text": [
      "Your number is less than pick number..! Your guess is incorrect in this round\n"
     ]
    },
    {
     "name": "stdin",
     "output_type": "stream",
     "text": [
      "ENTER YOU CHOICE AS NUMBER:  2\n"
     ]
    },
    {
     "name": "stdout",
     "output_type": "stream",
     "text": [
      "Your guess is correct in this round!!!!!!!!\n",
      "Game Over!\n",
      "Your no. of Attempts is:  2\n",
      "\n",
      "       SUMMARY:-\n",
      "       Initialization   - for while loop we take intialisation as j=0\n",
      "                        - we have to count user win and computer win so we take initialization as user_score =0 and computer_score=0\n",
      "                        - then we take input trial so the while loop has to stop at that number\n",
      "       condition/update - In a While loop take user as an integer and random value between number \n",
      "                        - pick a random choice in variable ename\n",
      "                        - Check condition in if else\n",
      "                        - if computer win more than user then it show computer won\n",
      "                        - if user won more the user then it show user won\n",
      "       Rules            - if user and system choice is same then guess is correct \n",
      "                        - if user is greater than system choice then guess is incorrect\n",
      "                        - if user is less than system choice then guess in incorrect\n"
     ]
    }
   ],
   "source": [
    "import random                               # import random module\n",
    "def summary():\n",
    "    \"\"\"\n",
    "       SUMMARY:-\n",
    "       Initialization   - for while loop we take intialisation as j=0\n",
    "                        - we have to count user win and computer win so we take initialization as user_score =0 and computer_score=0\n",
    "                        - then we take input trial so the while loop has to stop at that number\n",
    "       condition/update - In a While loop take user as an integer and random value between number \n",
    "                        - pick a random choice in variable ename\n",
    "                        - Check condition in if else\n",
    "                        - if computer win more than user then it show computer won\n",
    "                        - if user won more the user then it show user won\n",
    "       Rules            - if user and system choice is same then guess is correct \n",
    "                        - if user is greater than system choice then guess is incorrect\n",
    "                        - if user is less than system choice then guess in incorrect\"\"\"\n",
    "print(\"*\"*25,\"WELCOME TO GUESSING GAME\",\"*\"*25)\n",
    "print()\n",
    "j=0                                        #Here 0 assign to varible j\n",
    "user_score=0                               # Here we have to count that's why we have to take initial value as 0\n",
    "#computer_score=0                          # Here we have to count that's why we have to take initial value as 0\n",
    "trial=int(input(\"ENTER THE NUMBER OF ROUNDS YOU WANT TO PLAY:\")) #Here int value assign to trial variable\n",
    "upto=int(input(\"ENTER STOP NUMBER OF SYSTEM CHOICE :\"))     # Here range()\n",
    "system_choice = random.randint(1,upto)     # Here System pick random integer value included 1 and upto\n",
    "while j<trial:                             # using while loop\n",
    "   \n",
    "    user = int(input(\"ENTER YOU CHOICE AS NUMBER: \") )   # to seek input from user \n",
    "   \n",
    "    #print(\"System choice is:\",pick)\n",
    "\n",
    "#check condition \n",
    "    if user == system_choice:              #Here user compare to pick if both are same then it return as  guess correct\n",
    "        print(\"Your guess is correct in this round!!!!!!!!\")\n",
    "        user_score += 1                    # iterate/increment by 1   \n",
    "        break\n",
    "    elif user<system_choice:                        # user compare to pick it return true your guess is incorrect\n",
    "        print(\"Your number is less than pick number..! Your guess is incorrect in this round\") \n",
    "        user_score +=1                     # user compare to pick if it is true then Guess is incorrect\n",
    "    else:                                  #Here user compare to computer return computer won \n",
    "        print(\"Your number is greater than pick number...! Your guess is incorrect in this round\")\n",
    "        user_score += 1                    # iterate/increment by 1\n",
    "    j=j+1                                   #update-increment\n",
    "print(\"Game Over!\")\n",
    "print(\"Your no. of Attempts is: \",user_score)\n",
    "#if user_score == computer_score:           #Here user_score compare with computer_score if this conditon is true return you won \n",
    "    #print(\"CONGRATULATION!!!!! You won the game.\")\n",
    "#elif user_score < computer_score:          #Here user_score campare with computer_score if this condition is true return guess incoreect\n",
    " #   print(\"Your all Guess is incorrect.... Better luck next time!\")\n",
    "#else:                                      #Here user_score campare with computer_score if this condition is true return guess incorrect\n",
    " #   print(\"Your all Guess is incorrect.....Better luck next time!\")\n",
    "\n",
    "#print(f\"you: {user_score} wins | Computer: {computer_score} wins\") #Here it shows the total user_score and computer_score\n",
    "print(summary.__doc__)                      #Here it will print the message given in the def function\n"
   ]
  },
  {
   "cell_type": "code",
   "execution_count": null,
   "id": "93a31da7-4819-4f01-b0b5-16548f5c47b2",
   "metadata": {},
   "outputs": [],
   "source": []
  }
 ],
 "metadata": {
  "kernelspec": {
   "display_name": "Python 3 (ipykernel)",
   "language": "python",
   "name": "python3"
  },
  "language_info": {
   "codemirror_mode": {
    "name": "ipython",
    "version": 3
   },
   "file_extension": ".py",
   "mimetype": "text/x-python",
   "name": "python",
   "nbconvert_exporter": "python",
   "pygments_lexer": "ipython3",
   "version": "3.11.5"
  }
 },
 "nbformat": 4,
 "nbformat_minor": 5
}
