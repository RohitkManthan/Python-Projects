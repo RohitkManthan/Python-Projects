{
 "cells": [
  {
   "cell_type": "code",
   "execution_count": null,
   "id": "c15d2edc-e3b6-46d8-8d39-8d4706cb382b",
   "metadata": {},
   "outputs": [
    {
     "name": "stdout",
     "output_type": "stream",
     "text": [
      "  |   |  \n",
      "---------\n",
      "  |   |  \n",
      "---------\n",
      "  |   |  \n",
      "---------\n",
      "Player X's turn.\n"
     ]
    },
    {
     "name": "stdin",
     "output_type": "stream",
     "text": [
      "Enter row (0, 1, or 2):  1\n",
      "Enter column (0, 1, or 2):  1\n"
     ]
    },
    {
     "name": "stdout",
     "output_type": "stream",
     "text": [
      "  |   |  \n",
      "---------\n",
      "  | X |  \n",
      "---------\n",
      "  |   |  \n",
      "---------\n",
      "Player O's turn.\n"
     ]
    },
    {
     "name": "stdin",
     "output_type": "stream",
     "text": [
      "Enter row (0, 1, or 2):  1\n",
      "Enter column (0, 1, or 2):  2\n"
     ]
    },
    {
     "name": "stdout",
     "output_type": "stream",
     "text": [
      "  |   |  \n",
      "---------\n",
      "  | X | O\n",
      "---------\n",
      "  |   |  \n",
      "---------\n",
      "Player X's turn.\n"
     ]
    },
    {
     "name": "stdin",
     "output_type": "stream",
     "text": [
      "Enter row (0, 1, or 2):  1\n",
      "Enter column (0, 1, or 2):  1\n"
     ]
    },
    {
     "name": "stdout",
     "output_type": "stream",
     "text": [
      "This spot is already taken! Try again.\n"
     ]
    },
    {
     "name": "stdin",
     "output_type": "stream",
     "text": [
      "Enter row (0, 1, or 2):  1\n",
      "Enter column (0, 1, or 2):  0\n"
     ]
    },
    {
     "name": "stdout",
     "output_type": "stream",
     "text": [
      "  |   |  \n",
      "---------\n",
      "X | X | O\n",
      "---------\n",
      "  |   |  \n",
      "---------\n",
      "Player O's turn.\n"
     ]
    }
   ],
   "source": [
    "import numpy as np\n",
    "\n",
    "# Initialize the board as a 3x3 numpy array filled with spaces\n",
    "board = np.full((3, 3), ' ')\n",
    "current_player = 'X'\n",
    "\n",
    "# Main game loop\n",
    "while True:\n",
    "    # Print the board\n",
    "    for row in board:\n",
    "        print(\" | \".join(row))\n",
    "        print(\"-\" * 9)\n",
    "\n",
    "    # Prompt the current player for their move\n",
    "    print(f\"Player {current_player}'s turn.\")\n",
    "\n",
    "    # Input validation loop\n",
    "    while True:\n",
    "        row = input(\"Enter row (0, 1, or 2): \")\n",
    "        col = input(\"Enter column (0, 1, or 2): \")\n",
    "        \n",
    "        # Check if the inputs are digits and within the valid range\n",
    "        if row.isdigit() and col.isdigit():\n",
    "            row, col = int(row), int(col)\n",
    "            if 0 <= row <= 2 and 0 <= col <= 2:\n",
    "                # Check if the chosen cell is empty\n",
    "                if board[row, col] == ' ':\n",
    "                    break  # Exit the loop if input is valid\n",
    "                else:\n",
    "                    print(\"This spot is already taken! Try again.\")\n",
    "            else:\n",
    "                print(\"Please enter numbers between 0 and 2.\")\n",
    "        else:\n",
    "            print(\"Invalid input. Please enter numeric values 0, 1, or 2.\")\n",
    "\n",
    "    # Place the player's mark on the board\n",
    "    board[row, col] = current_player\n",
    "\n",
    "    # Check for a winner\n",
    "    winner = False\n",
    "    for i in range(3):\n",
    "        # Replace np.all with all() for row and column checks\n",
    "        if all(board[i, j] == current_player for j in range(3)) or all(board[j, i] == current_player for j in range(3)):\n",
    "            winner = True\n",
    "            break\n",
    "    # Diagonal checks remain the same\n",
    "    if board[0, 0] == board[1, 1] == board[2, 2] == current_player or board[0, 2] == board[1, 1] == board[2, 0] == current_player:\n",
    "        winner = True\n",
    "    \n",
    "    if winner:\n",
    "        for row in board:\n",
    "            print(\" | \".join(row))\n",
    "            print(\"-\" * 9)\n",
    "        print(f\"Player {current_player} wins!\")\n",
    "        break\n",
    "\n",
    "    # Check for a draw using all() instead of np.all\n",
    "    draw = all(cell != ' ' for row in board for cell in row)\n",
    "    if draw:\n",
    "        for row in board:\n",
    "            print(\" | \".join(row))\n",
    "            print(\"-\" * 9)\n",
    "        print(\"It's a draw!\")\n",
    "        break\n",
    "\n",
    "    # Switch players\n",
    "    current_player = 'O' if current_player == 'X' else 'X'\n"
   ]
  },
  {
   "cell_type": "code",
   "execution_count": null,
   "id": "9ff44f62-5e88-44ad-85ef-a464d0571fe7",
   "metadata": {},
   "outputs": [],
   "source": []
  }
 ],
 "metadata": {
  "kernelspec": {
   "display_name": "Python 3 (ipykernel)",
   "language": "python",
   "name": "python3"
  },
  "language_info": {
   "codemirror_mode": {
    "name": "ipython",
    "version": 3
   },
   "file_extension": ".py",
   "mimetype": "text/x-python",
   "name": "python",
   "nbconvert_exporter": "python",
   "pygments_lexer": "ipython3",
   "version": "3.11.5"
  }
 },
 "nbformat": 4,
 "nbformat_minor": 5
}
